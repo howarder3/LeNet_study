{
 "cells": [
  {
   "cell_type": "markdown",
   "metadata": {},
   "source": [
    "# Ch `09`: Concept `03`"
   ]
  },
  {
   "cell_type": "markdown",
   "metadata": {},
   "source": [
    "## Convolution Neural Network"
   ]
  },
  {
   "cell_type": "markdown",
   "metadata": {},
   "source": [
    "Load data from CIFAR-10."
   ]
  },
  {
   "cell_type": "code",
   "execution_count": 5,
   "metadata": {},
   "outputs": [
    {
     "ename": "NameError",
     "evalue": "name 'cifar_tools' is not defined",
     "output_type": "error",
     "traceback": [
      "\u001b[0;31m---------------------------------------------------------------------------\u001b[0m",
      "\u001b[0;31mNameError\u001b[0m                                 Traceback (most recent call last)",
      "\u001b[0;32m<ipython-input-5-813e7a520432>\u001b[0m in \u001b[0;36m<module>\u001b[0;34m()\u001b[0m\n\u001b[1;32m      8\u001b[0m \u001b[0;34m\u001b[0m\u001b[0m\n\u001b[1;32m      9\u001b[0m \u001b[0;31m#Load the dataset\u001b[0m\u001b[0;34m\u001b[0m\u001b[0;34m\u001b[0m\u001b[0m\n\u001b[0;32m---> 10\u001b[0;31m \u001b[0mnames\u001b[0m\u001b[0;34m,\u001b[0m \u001b[0mdata\u001b[0m\u001b[0;34m,\u001b[0m \u001b[0mlabels\u001b[0m \u001b[0;34m=\u001b[0m \u001b[0mcifar_tools\u001b[0m\u001b[0;34m.\u001b[0m\u001b[0mread_data\u001b[0m\u001b[0;34m(\u001b[0m\u001b[0;34m'https://github.com/netzo92/cs291k---MP1/tree/master/cifar-10-batches-py'\u001b[0m\u001b[0;34m)\u001b[0m\u001b[0;34m\u001b[0m\u001b[0m\n\u001b[0m\u001b[1;32m     11\u001b[0m \u001b[0;34m\u001b[0m\u001b[0m\n\u001b[1;32m     12\u001b[0m \u001b[0;31m#     cifar_tools.read_data('C:/Users/howar/ch09_cnn/cifar-10-batches-py')\u001b[0m\u001b[0;34m\u001b[0m\u001b[0;34m\u001b[0m\u001b[0m\n",
      "\u001b[0;31mNameError\u001b[0m: name 'cifar_tools' is not defined"
     ]
    }
   ],
   "source": [
    "import numpy as np\n",
    "import matplotlib.pyplot as plt\n",
    "import cifar_tools\n",
    "import tensorflow as tf\n",
    "\n",
    "learning_rate = 0.001\n",
    "\n",
    "\n",
    "#Load the dataset\n",
    "names, data, labels = cifar_tools.read_data('https://github.com/netzo92/cs291k---MP1/tree/master/cifar-10-batches-py')\n",
    "\n",
    "#     cifar_tools.read_data('C:/Users/howar/ch09_cnn/cifar-10-batches-py')"
   ]
  },
  {
   "cell_type": "markdown",
   "metadata": {},
   "source": [
    "Define the placeholders and variables for the CNN model:"
   ]
  },
  {
   "cell_type": "code",
   "execution_count": null,
   "metadata": {
    "collapsed": true
   },
   "outputs": [],
   "source": [
    "#Define the input and output placeholders\n",
    "x = tf.placeholder(tf.float32, [None, 24 * 24])\n",
    "y = tf.placeholder(tf.float32, [None, len(names)])\n",
    "\n",
    "#Apply 64 convolutions of window-size 5x5\n",
    "with tf.name_scope('layer1'):\n",
    "    with tf.name_scope('layer1_weight'):\n",
    "        W1 = tf.Variable(tf.random_normal([5, 5, 1, 64]))\n",
    "    with tf.name_scope('layer1_bias'):    \n",
    "        b1 = tf.Variable(tf.random_normal([64]))\n",
    "\n",
    "#Then apply 64 more convolutions of window-size 5x5\n",
    "with tf.name_scope('layer2'):\n",
    "    with tf.name_scope('layer2_weight'):\n",
    "        W2 = tf.Variable(tf.random_normal([5, 5, 64, 64]))\n",
    "    with tf.name_scope('layer2_bias'):\n",
    "        b2 = tf.Variable(tf.random_normal([64]))\n",
    "\n",
    "#Then we introduce a fully-connected layer\n",
    "with tf.name_scope('fc_layer'):\n",
    "    with tf.name_scope('fc_weight'):\n",
    "        W3 = tf.Variable(tf.random_normal([6*6*64, 1024]))\n",
    "    with tf.name_scope('fc_bias'):\n",
    "        b3 = tf.Variable(tf.random_normal([1024]))\n",
    "\n",
    "#Lastly, define the variables for a fully-connected linear layer\n",
    "with tf.name_scope('Output_layer'):\n",
    "    with tf.name_scope('Output_weight'):\n",
    "        W_out = tf.Variable(tf.random_normal([1024, len(names)]))\n",
    "    with tf.name_scope('Output_bias'):\n",
    "        b_out = tf.Variable(tf.random_normal([len(names)]))"
   ]
  },
  {
   "cell_type": "markdown",
   "metadata": {},
   "source": [
    "Define helper functions for the convolution and maxpool layers:"
   ]
  },
  {
   "cell_type": "code",
   "execution_count": null,
   "metadata": {
    "collapsed": true
   },
   "outputs": [],
   "source": [
    "def conv_layer(x, W, b):\n",
    "    conv = tf.nn.conv2d(x, W, strides=[1, 1, 1, 1], padding='SAME')\n",
    "    conv_with_b = tf.nn.bias_add(conv, b)\n",
    "    conv_out = tf.nn.relu(conv_with_b)\n",
    "    return conv_out\n",
    "\n",
    "\n",
    "def maxpool_layer(conv, k=2):\n",
    "    return tf.nn.max_pool(conv, ksize=[1, k, k, 1], strides=[1, k, k, 1], padding='SAME')"
   ]
  },
  {
   "cell_type": "markdown",
   "metadata": {},
   "source": [
    "The CNN model is defined all within the following method:"
   ]
  },
  {
   "cell_type": "code",
   "execution_count": null,
   "metadata": {
    "collapsed": true
   },
   "outputs": [],
   "source": [
    "def model():\n",
    "    x_reshaped = tf.reshape(x, shape=[-1, 24, 24, 1])\n",
    "\n",
    "    #Construct the first layer of convolution and maxpooling\n",
    "    with tf.name_scope('layer1'):\n",
    "        with tf.name_scope('conv_layer1'):\n",
    "            conv_out1 = conv_layer(x_reshaped, W1, b1)\n",
    "        with tf.name_scope('maxpool_layer1'):\n",
    "            maxpool_out1 = maxpool_layer(conv_out1)\n",
    "        with tf.name_scope('norm_layer1'):\n",
    "            norm1 = tf.nn.lrn(maxpool_out1, 4, bias=1.0, alpha=0.001 / 9.0, beta=0.75)\n",
    "    \n",
    "    #Construct the second layer\n",
    "    with tf.name_scope('layer2'):\n",
    "        with tf.name_scope('conv_layer2'):\n",
    "            conv_out2 = conv_layer(norm1, W2, b2)\n",
    "        with tf.name_scope('norm_layer2'):\n",
    "            norm2 = tf.nn.lrn(conv_out2, 4, bias=1.0, alpha=0.001 / 9.0, beta=0.75)\n",
    "        with tf.name_scope('maxpool_layer2'):\n",
    "            maxpool_out2 = maxpool_layer(norm2)\n",
    "\n",
    "    #Lastly, construct the concluding fully connected layers\n",
    "    with tf.name_scope('fully_connected'):\n",
    "        with tf.name_scope('maxpool_layer2_reshaped'):\n",
    "            maxpool_reshaped = tf.reshape(maxpool_out2, [-1, W3.get_shape().as_list()[0]])\n",
    "        with tf.name_scope('fc_out_before_relu'):\n",
    "            local = tf.add(tf.matmul(maxpool_reshaped, W3), b3)\n",
    "        with tf.name_scope('fc_out'):\n",
    "            local_out = tf.nn.relu(local)\n",
    "\n",
    "    with tf.name_scope('total_out'):    \n",
    "        out = tf.add(tf.matmul(local_out, W_out), b_out)\n",
    "    return out"
   ]
  },
  {
   "cell_type": "markdown",
   "metadata": {},
   "source": [
    "Here's the cost function to train the classifier."
   ]
  },
  {
   "cell_type": "code",
   "execution_count": null,
   "metadata": {
    "collapsed": true
   },
   "outputs": [],
   "source": [
    "model_op = model()\n",
    "\n",
    "cost = tf.reduce_mean(\n",
    "    tf.nn.softmax_cross_entropy_with_logits(logits=model_op, labels=y)\n",
    ")\n",
    "train_op = tf.train.AdamOptimizer(learning_rate=learning_rate).minimize(cost)\n",
    "\n",
    "correct_pred = tf.equal(tf.argmax(model_op, 1), tf.argmax(y, 1))\n",
    "accuracy = tf.reduce_mean(tf.cast(correct_pred, tf.float32))"
   ]
  },
  {
   "cell_type": "markdown",
   "metadata": {},
   "source": [
    "Let's train the classifier on our data:"
   ]
  },
  {
   "cell_type": "code",
   "execution_count": null,
   "metadata": {
    "collapsed": true,
    "scrolled": false
   },
   "outputs": [],
   "source": [
    "with tf.Session() as sess:\n",
    "    # 初始化 Graph\n",
    "    sess.run(tf.global_variables_initializer())\n",
    "    \n",
    "    \n",
    "    # 將視覺化輸出\n",
    "    writer = tf.summary.FileWriter(\"TensorBoard/\", graph = sess.graph)\n",
    "    onehot_labels = tf.one_hot(labels, len(names), on_value=1., off_value=0., axis=-1)\n",
    "    onehot_vals = sess.run(onehot_labels)\n",
    "    batch_size = len(data) // 200\n",
    "    print('batch size', batch_size)\n",
    "    \n",
    "    #Loop through 1000 epochs\n",
    "    for j in range(0, 1000):\n",
    "        avg_accuracy_val = 0.\n",
    "        batch_count = 0.\n",
    "        \n",
    "        #Train the network in batches\n",
    "        for i in range(0, len(data), batch_size):\n",
    "            batch_data = data[i:i+batch_size, :]\n",
    "            batch_onehot_vals = onehot_vals[i:i+batch_size, :]\n",
    "            _, accuracy_val = sess.run([train_op, accuracy], feed_dict={x: batch_data, y: batch_onehot_vals})\n",
    "            avg_accuracy_val += accuracy_val\n",
    "            batch_count += 1.\n",
    "        avg_accuracy_val /= batch_count\n",
    "        print('Epoch {}. Avg accuracy {}'.format(j, avg_accuracy_val))\n"
   ]
  },
  {
   "cell_type": "code",
   "execution_count": null,
   "metadata": {
    "collapsed": true
   },
   "outputs": [],
   "source": []
  },
  {
   "cell_type": "code",
   "execution_count": null,
   "metadata": {
    "collapsed": true
   },
   "outputs": [],
   "source": []
  },
  {
   "cell_type": "code",
   "execution_count": null,
   "metadata": {
    "collapsed": true
   },
   "outputs": [],
   "source": []
  },
  {
   "cell_type": "code",
   "execution_count": null,
   "metadata": {
    "collapsed": true
   },
   "outputs": [],
   "source": []
  },
  {
   "cell_type": "code",
   "execution_count": null,
   "metadata": {
    "collapsed": true
   },
   "outputs": [],
   "source": []
  }
 ],
 "metadata": {
  "anaconda-cloud": {},
  "kernelspec": {
   "display_name": "Python 3",
   "language": "python",
   "name": "python3"
  },
  "language_info": {
   "codemirror_mode": {
    "name": "ipython",
    "version": 3
   },
   "file_extension": ".py",
   "mimetype": "text/x-python",
   "name": "python",
   "nbconvert_exporter": "python",
   "pygments_lexer": "ipython3",
   "version": "3.6.1"
  }
 },
 "nbformat": 4,
 "nbformat_minor": 1
}
